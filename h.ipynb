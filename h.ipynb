{
 "cells": [
  {
   "cell_type": "code",
   "execution_count": 4,
   "id": "78e33fe3",
   "metadata": {},
   "outputs": [
    {
     "name": "stdout",
     "output_type": "stream",
     "text": [
      "hELLO wORLD\n"
     ]
    }
   ],
   "source": [
    "print(\"hELLO wORLD\")"
   ]
  },
  {
   "cell_type": "code",
   "execution_count": 3,
   "id": "8d0b2825",
   "metadata": {},
   "outputs": [
    {
     "name": "stdout",
     "output_type": "stream",
     "text": [
      "hello number 90\n"
     ]
    }
   ],
   "source": [
    "num = 90\n",
    "print(f\"hello number {num}\")"
   ]
  },
  {
   "cell_type": "markdown",
   "id": "52ac93d9",
   "metadata": {},
   "source": [
    "Stuffghhhphhh"
   ]
  },
  {
   "cell_type": "code",
   "execution_count": null,
   "id": "9b8a5b12",
   "metadata": {},
   "outputs": [],
   "source": []
  }
 ],
 "metadata": {
  "kernelspec": {
   "display_name": "Python 3 (ipykernel)",
   "language": "python",
   "name": "python3"
  },
  "language_info": {
   "codemirror_mode": {
    "name": "ipython",
    "version": 3
   },
   "file_extension": ".py",
   "mimetype": "text/x-python",
   "name": "python",
   "nbconvert_exporter": "python",
   "pygments_lexer": "ipython3",
   "version": "3.11.4"
  }
 },
 "nbformat": 4,
 "nbformat_minor": 5
}
